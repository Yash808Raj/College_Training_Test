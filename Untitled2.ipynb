{
 "cells": [
  {
   "cell_type": "code",
   "execution_count": 7,
   "id": "8fa7f255-35ff-4ef0-9ade-add129e43456",
   "metadata": {},
   "outputs": [
    {
     "name": "stdout",
     "output_type": "stream",
     "text": [
      "2\n"
     ]
    }
   ],
   "source": [
    "main_str = \"abcdcdc\"\n",
    "sub_str = \"cdc\"\n",
    "\n",
    "count = 0\n",
    "for i in range(len(main_str) - len(sub_str) + 1):\n",
    "    if main_str[i:i+len(sub_str)] == sub_str:\n",
    "        count += 1\n",
    "\n",
    "print(count)\n"
   ]
  },
  {
   "cell_type": "code",
   "execution_count": 18,
   "id": "4e733f50-2c94-4721-bc24-3658b3880cdc",
   "metadata": {},
   "outputs": [
    {
     "name": "stdin",
     "output_type": "stream",
     "text": [
      "Enter number 1:  2\n",
      "Enter number 2:  4\n",
      "Enter number 3:  6\n",
      "Enter number 4:  8\n"
     ]
    },
    {
     "name": "stdout",
     "output_type": "stream",
     "text": [
      "Factorials: [2, 24, 720, 40320]\n"
     ]
    }
   ],
   "source": [
    "def fact(n):\n",
    "    result = 1\n",
    "    for i in range(2, n + 1):\n",
    "        result *= i\n",
    "    return result\n",
    "num = [int(input(f\"Enter number {i+1}: \")) for i in range(4)]\n",
    "fact = [fact(num) for num in num]\n",
    "print(\"Factorials:\", fact)\n"
   ]
  },
  {
   "cell_type": "code",
   "execution_count": 25,
   "id": "0a46362f-91e1-4754-b0cd-99e64fbcf80f",
   "metadata": {},
   "outputs": [
    {
     "name": "stdout",
     "output_type": "stream",
     "text": [
      "uYWrt`M?ar;A\n"
     ]
    },
    {
     "name": "stdin",
     "output_type": "stream",
     "text": [
      "Do you like this password? (y/n):  n\n"
     ]
    },
    {
     "name": "stdout",
     "output_type": "stream",
     "text": [
      ":!c4p''EQ*C^\n"
     ]
    },
    {
     "name": "stdin",
     "output_type": "stream",
     "text": [
      "Do you like this password? (y/n):  n\n"
     ]
    },
    {
     "name": "stdout",
     "output_type": "stream",
     "text": [
      "@#EXT9:F59jy\n"
     ]
    },
    {
     "name": "stdin",
     "output_type": "stream",
     "text": [
      "Do you like this password? (y/n):  y\n"
     ]
    }
   ],
   "source": [
    "import random\n",
    "import string\n",
    "def generate_password(length=12):\n",
    "    letters = string.ascii_letters\n",
    "    digits = string.digits\n",
    "    symbols = string.punctuation\n",
    "    combined = letters + digits + symbols\n",
    "    password = ''.join(random.choices(combined, k=length))\n",
    "    return password\n",
    "\n",
    "\n",
    "while True:\n",
    "    password = generate_password()\n",
    "    print(password)\n",
    "    if input(\"Do you like this password? (y/n): \") == \"y\":\n",
    "        break"
   ]
  },
  {
   "cell_type": "code",
   "execution_count": 26,
   "id": "32316406-c639-49c4-8883-e77703d4769c",
   "metadata": {},
   "outputs": [
    {
     "name": "stdout",
     "output_type": "stream",
     "text": [
      "5\n"
     ]
    }
   ],
   "source": [
    "def vowel_check(string):\n",
    "  vowels = \"aeiouAEIOU\"\n",
    "  vowel_count = 0\n",
    "  for char in string:\n",
    "    if char in vowels:\n",
    "      vowel_count += 1\n",
    "  return vowel_count\n",
    "\n",
    "string = \"It is cold winter\"\n",
    "result = vowel_check(string)\n",
    "print(result)\n"
   ]
  },
  {
   "cell_type": "code",
   "execution_count": 21,
   "id": "57c1a93a-180f-4852-b66d-29036ea0ebb0",
   "metadata": {},
   "outputs": [
    {
     "name": "stdin",
     "output_type": "stream",
     "text": [
      "Enter a string:  python\n"
     ]
    },
    {
     "name": "stdout",
     "output_type": "stream",
     "text": [
      "Forward:\n",
      "p y t h o n \n",
      "Reverse:\n",
      "n o h t y p "
     ]
    }
   ],
   "source": [
    "str= input(\"Enter string: \")\n",
    "i = 0\n",
    "print(\"Forward:\")\n",
    "while i < len(str):\n",
    "    print(str[i], end=\" \")\n",
    "    i += 1\n",
    "\n",
    "print(\"\\nReverse:\")\n",
    "i = len(str) - 1\n",
    "while i >= 0:\n",
    "    print(str[i], end=\" \")\n",
    "    i -= 1\n"
   ]
  },
  {
   "cell_type": "code",
   "execution_count": 22,
   "id": "ff6b0808-1c9f-42b6-b63b-c71eb52e5727",
   "metadata": {},
   "outputs": [
    {
     "name": "stdout",
     "output_type": "stream",
     "text": [
      "yes,Substring found!\n"
     ]
    }
   ],
   "source": [
    "string = \"Hello, Yash!\"\n",
    "substring = \"Hello\"\n",
    "if substring in string:\n",
    "    print(\"yes,Substring found!\")\n",
    "else:\n",
    "    print(\"Substring not found.\")"
   ]
  },
  {
   "cell_type": "code",
   "execution_count": 23,
   "id": "c2e8c006-096f-4fd9-811c-600a90ac5b09",
   "metadata": {},
   "outputs": [
    {
     "name": "stdout",
     "output_type": "stream",
     "text": [
      "5\n"
     ]
    }
   ],
   "source": [
    "word = 'find me if you can'\n",
    "print(word.find('me'))"
   ]
  },
  {
   "cell_type": "code",
   "execution_count": 24,
   "id": "0c49c7f4-2844-4d9f-bf0a-e695d0ab553c",
   "metadata": {},
   "outputs": [
    {
     "name": "stdin",
     "output_type": "stream",
     "text": [
      "string:  my name is yash\n",
      "sub string:  is\n",
      "position no:  6\n"
     ]
    },
    {
     "name": "stdout",
     "output_type": "stream",
     "text": [
      "Result: my namise is yash\n"
     ]
    }
   ],
   "source": [
    "mstr = input(\"string: \")\n",
    "substr = input(\"sub string: \")\n",
    "position = int(input(\"position no: \"))\n",
    "result = mstr[:position] + substr + mstr[position:]\n",
    "print(\"Result:\", result)\n"
   ]
  },
  {
   "cell_type": "code",
   "execution_count": 28,
   "id": "9ea85de4-f6a1-4019-8f6b-c8a73c873ac4",
   "metadata": {},
   "outputs": [
    {
     "name": "stdout",
     "output_type": "stream",
     "text": [
      "0 1 1 2 3 5 8 13 21 34 "
     ]
    }
   ],
   "source": [
    "def fib(n):\n",
    "  a, b = 0, 1\n",
    "  for i in range(n):\n",
    "    yield a\n",
    "    a, b = b, a + b\n",
    "\n",
    "for j in fib(10):\n",
    "    print(j,end=' ')"
   ]
  },
  {
   "cell_type": "code",
   "execution_count": null,
   "id": "30187e37-911e-436c-b5e8-0f93ab3a7b89",
   "metadata": {},
   "outputs": [],
   "source": []
  }
 ],
 "metadata": {
  "kernelspec": {
   "display_name": "Python 3 (ipykernel)",
   "language": "python",
   "name": "python3"
  },
  "language_info": {
   "codemirror_mode": {
    "name": "ipython",
    "version": 3
   },
   "file_extension": ".py",
   "mimetype": "text/x-python",
   "name": "python",
   "nbconvert_exporter": "python",
   "pygments_lexer": "ipython3",
   "version": "3.12.4"
  }
 },
 "nbformat": 4,
 "nbformat_minor": 5
}
